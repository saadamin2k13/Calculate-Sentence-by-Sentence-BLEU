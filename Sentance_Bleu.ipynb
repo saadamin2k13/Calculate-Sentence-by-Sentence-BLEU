{
  "nbformat": 4,
  "nbformat_minor": 0,
  "metadata": {
    "colab": {
      "provenance": []
    },
    "kernelspec": {
      "name": "python3",
      "display_name": "Python 3"
    },
    "language_info": {
      "name": "python"
    }
  },
  "cells": [
    {
      "cell_type": "code",
      "source": [
        "!pip install sacrebleu"
      ],
      "metadata": {
        "id": "nRnt5yqlXaw1",
        "colab": {
          "base_uri": "https://localhost:8080/"
        },
        "outputId": "a9df10b8-229e-4a16-fea6-eebce7556a52"
      },
      "execution_count": null,
      "outputs": [
        {
          "output_type": "stream",
          "name": "stdout",
          "text": [
            "Looking in indexes: https://pypi.org/simple, https://us-python.pkg.dev/colab-wheels/public/simple/\n",
            "Collecting sacrebleu\n",
            "  Downloading sacrebleu-2.3.1-py3-none-any.whl (118 kB)\n",
            "\u001b[2K     \u001b[90m━━━━━━━━━━━━━━━━━━━━━━━━━━━━━━━━━━━━━━━\u001b[0m \u001b[32m118.9/118.9 KB\u001b[0m \u001b[31m1.5 MB/s\u001b[0m eta \u001b[36m0:00:00\u001b[0m\n",
            "\u001b[?25hCollecting portalocker\n",
            "  Downloading portalocker-2.7.0-py2.py3-none-any.whl (15 kB)\n",
            "Requirement already satisfied: regex in /usr/local/lib/python3.9/dist-packages (from sacrebleu) (2022.6.2)\n",
            "Requirement already satisfied: lxml in /usr/local/lib/python3.9/dist-packages (from sacrebleu) (4.9.2)\n",
            "Collecting colorama\n",
            "  Downloading colorama-0.4.6-py2.py3-none-any.whl (25 kB)\n",
            "Requirement already satisfied: numpy>=1.17 in /usr/local/lib/python3.9/dist-packages (from sacrebleu) (1.22.4)\n",
            "Requirement already satisfied: tabulate>=0.8.9 in /usr/local/lib/python3.9/dist-packages (from sacrebleu) (0.8.10)\n",
            "Installing collected packages: portalocker, colorama, sacrebleu\n",
            "Successfully installed colorama-0.4.6 portalocker-2.7.0 sacrebleu-2.3.1\n"
          ]
        }
      ]
    },
    {
      "cell_type": "code",
      "source": [
        "!pip install sacremoses"
      ],
      "metadata": {
        "id": "BJsIFIMPfzg7",
        "colab": {
          "base_uri": "https://localhost:8080/"
        },
        "outputId": "f9d5b46e-ea44-4435-be8e-e684c65afe6a"
      },
      "execution_count": null,
      "outputs": [
        {
          "output_type": "stream",
          "name": "stdout",
          "text": [
            "Looking in indexes: https://pypi.org/simple, https://us-python.pkg.dev/colab-wheels/public/simple/\n",
            "Collecting sacremoses\n",
            "  Downloading sacremoses-0.0.53.tar.gz (880 kB)\n",
            "\u001b[2K     \u001b[90m━━━━━━━━━━━━━━━━━━━━━━━━━━━━━━━━━━━━━━━\u001b[0m \u001b[32m880.6/880.6 KB\u001b[0m \u001b[31m7.6 MB/s\u001b[0m eta \u001b[36m0:00:00\u001b[0m\n",
            "\u001b[?25h  Preparing metadata (setup.py) ... \u001b[?25l\u001b[?25hdone\n",
            "Requirement already satisfied: regex in /usr/local/lib/python3.9/dist-packages (from sacremoses) (2022.6.2)\n",
            "Requirement already satisfied: six in /usr/local/lib/python3.9/dist-packages (from sacremoses) (1.15.0)\n",
            "Requirement already satisfied: click in /usr/local/lib/python3.9/dist-packages (from sacremoses) (8.1.3)\n",
            "Requirement already satisfied: joblib in /usr/local/lib/python3.9/dist-packages (from sacremoses) (1.1.1)\n",
            "Requirement already satisfied: tqdm in /usr/local/lib/python3.9/dist-packages (from sacremoses) (4.65.0)\n",
            "Building wheels for collected packages: sacremoses\n",
            "  Building wheel for sacremoses (setup.py) ... \u001b[?25l\u001b[?25hdone\n",
            "  Created wheel for sacremoses: filename=sacremoses-0.0.53-py3-none-any.whl size=895258 sha256=c6c9c0d71d598b69db2683543ef525a53befa5f62aabe17aaa217a8f95771626\n",
            "  Stored in directory: /root/.cache/pip/wheels/12/1c/3d/46cf06718d63a32ff798a89594b61e7f345ab6b36d909ce033\n",
            "Successfully built sacremoses\n",
            "Installing collected packages: sacremoses\n",
            "Successfully installed sacremoses-0.0.53\n"
          ]
        }
      ]
    },
    {
      "cell_type": "markdown",
      "source": [
        "**Make two txt files. One with reference and otherone as translation of neural model.**"
      ],
      "metadata": {
        "id": "zc2ZOVX2B0ig"
      }
    },
    {
      "cell_type": "code",
      "source": [
        "!python3 compute-bleu-sentence-args.py test.txt.raw train.txt.raw"
      ],
      "metadata": {
        "id": "rj3qHG06gZ6S"
      },
      "execution_count": null,
      "outputs": []
    },
    {
      "cell_type": "code",
      "source": [
        "ls"
      ],
      "metadata": {
        "colab": {
          "base_uri": "https://localhost:8080/"
        },
        "id": "lvwYEK6Tk5qN",
        "outputId": "fe39b223-f5a6-4b74-f8ca-c6156090b5d3"
      },
      "execution_count": null,
      "outputs": [
        {
          "output_type": "stream",
          "name": "stdout",
          "text": [
            "compute-bleu-sentence-args.py  \u001b[0m\u001b[01;34msample_data\u001b[0m/  test.txt.raw  train.txt.raw\n"
          ]
        }
      ]
    },
    {
      "cell_type": "markdown",
      "source": [
        "**create compute-bleu-sentence-args.py file and copy code given below in it.**"
      ],
      "metadata": {
        "id": "eVIHCPZgBkyc"
      }
    },
    {
      "cell_type": "code",
      "execution_count": null,
      "metadata": {
        "id": "y4tupCACXOEH"
      },
      "outputs": [],
      "source": [
        "# BLEU for segment by segment with arguments\n",
        "# Run this file from CMD/Terminal\n",
        "# Example Command: python3 compute-bleu-sentence-args.py test_file_name.txt mt_file_name.txt\n",
        "\n",
        "import sys\n",
        "import sacrebleu\n",
        "from sacremoses import MosesDetokenizer\n",
        "md = MosesDetokenizer(lang='en')\n",
        "\n",
        "target_test = sys.argv[1]  # Test file argument\n",
        "target_pred = sys.argv[2]  # MTed file argument\n",
        "\n",
        "# Open the test dataset human translation file and detokenize the references\n",
        "refs = []\n",
        "\n",
        "with open(target_test) as test:\n",
        "    for line in test: \n",
        "        line = line.strip().split() \n",
        "        line = md.detokenize(line) \n",
        "        refs.append(line)\n",
        "    \n",
        "print(\"Reference 1st sentence:\", refs[0])\n",
        "\n",
        "# Open the translation file by the NMT model and detokenize the predictions\n",
        "preds = []\n",
        "\n",
        "with open(target_pred) as pred:  \n",
        "    for line in pred: \n",
        "        line = line.strip().split() \n",
        "        line = md.detokenize(line) \n",
        "        preds.append(line)\n",
        "\n",
        "# Calculate BLEU for sentence by sentence and save the result to a file\n",
        "with open(\"bleu-\" + target_pred + \".txt\", \"w+\") as output:\n",
        "    for line in zip(refs,preds):\n",
        "        test = line[0]\n",
        "        pred = line[1]\n",
        "        print(test, \"\\t--->\\t\", pred)\n",
        "        bleu = sacrebleu.sentence_bleu(pred, [test], smooth_method='exp')\n",
        "        print(bleu.score, \"\\n\")\n",
        "        output.write(str(bleu.score) + \"\\n\")"
      ]
    },
    {
      "cell_type": "markdown",
      "source": [
        "**Drawing histogram of BLEU scores**"
      ],
      "metadata": {
        "id": "9Aou_oxQzYjY"
      }
    },
    {
      "cell_type": "code",
      "source": [
        "import matplotlib.pyplot as plt\n",
        "import numpy as np\n",
        "import matplotlib\n",
        "\n",
        "f= np.loadtxt('bleu-unlex-char.txt', unpack='False')\n",
        "\n",
        "# set bins' interval for your data\n",
        "# You have following intervals: \n",
        "# 1st col is number of data elements in [0,10000);\n",
        "# 2nd col is number of data elements in [10000, 20000); \n",
        "# ...\n",
        "# last col is number of data elements in [100000, 200000]; \n",
        "bins = [0,10,20,30,40,50,60,70,80,90,100] \n",
        "\n",
        "plt.hist(f, histtype='bar', bins = bins, color = \"lightblue\", ec=\"red\")\n",
        "plt.xlabel('BLEU Score Range')\n",
        "plt.ylabel('Number of Translation Samples')\n",
        "plt.title('Char-Level Distribution of BLEU Scores')\n",
        "plt.legend()\n",
        "plt.show()"
      ],
      "metadata": {
        "colab": {
          "base_uri": "https://localhost:8080/",
          "height": 313
        },
        "id": "_nljStNOzedK",
        "outputId": "84d2c5d7-3242-4ade-ca4d-98808ea84088"
      },
      "execution_count": null,
      "outputs": [
        {
          "output_type": "stream",
          "name": "stderr",
          "text": [
            "WARNING:matplotlib.legend:No handles with labels found to put in legend.\n"
          ]
        },
        {
          "output_type": "display_data",
          "data": {
            "text/plain": [
              "<Figure size 432x288 with 1 Axes>"
            ],
            "image/png": "[encoded data removed]"
          },
          "metadata": {
            "needs_background": "light"
          }
        }
      ]
    },
    {
      "cell_type": "markdown",
      "source": [
        "**for word-score**"
      ],
      "metadata": {
        "id": "prc825HW1_QL"
      }
    },
    {
      "cell_type": "code",
      "source": [
        "import matplotlib.pyplot as plt\n",
        "import numpy as np\n",
        "import matplotlib\n",
        "\n",
        "f= np.loadtxt('bleu-unlex-word.txt', unpack='False')\n",
        "\n",
        "# set bins' interval for your data\n",
        "# You have following intervals: \n",
        "# 1st col is number of data elements in [0,10000);\n",
        "# 2nd col is number of data elements in [10000, 20000); \n",
        "# ...\n",
        "# last col is number of data elements in [100000, 200000]; \n",
        "bins = [0,10,20,30,40,50,60,70,80,90,100] \n",
        "\n",
        "plt.hist(f, histtype='bar', bins = bins, color = \"lightblue\", ec=\"red\")\n",
        "plt.xlabel('BLEU Score Range')\n",
        "plt.ylabel('Number of Translation Samples')\n",
        "plt.title('Word-Level Distribution of BLEU Scores')\n",
        "plt.legend()\n",
        "plt.show()"
      ],
      "metadata": {
        "colab": {
          "base_uri": "https://localhost:8080/",
          "height": 313
        },
        "id": "RJ-yCvm81-fN",
        "outputId": "4fa4b986-1d40-496b-a568-460b0cf44a1c"
      },
      "execution_count": null,
      "outputs": [
        {
          "output_type": "stream",
          "name": "stderr",
          "text": [
            "WARNING:matplotlib.legend:No handles with labels found to put in legend.\n"
          ]
        },
        {
          "output_type": "display_data",
          "data": {
            "text/plain": [
              "<Figure size 432x288 with 1 Axes>"
            ],
            "image/png": "[encoded data removed]"
          },
          "metadata": {
            "needs_background": "light"
          }
        }
      ]
    },
    {
      "cell_type": "markdown",
      "source": [
        "**code to read text and save in excel file**"
      ],
      "metadata": {
        "id": "9ZKax4ov_l9-"
      }
    },
    {
      "cell_type": "code",
      "source": [
        "with open('unlexical-word.txt') as f1:\n",
        "    lines = [line.rstrip() for line in f1]\n",
        "\n",
        "with open('test.txt') as f2:\n",
        "    lines2 = [line.rstrip() for line in f2]\n",
        "\n",
        "with open('bleu-unlex-word.txt') as f3:\n",
        "    lines3 = [line.rstrip() for line in f3]\n",
        "\n",
        "\n",
        "print(type(lines))\n",
        "print(type(lines2))\n",
        "print(type(lines3))\n"
      ],
      "metadata": {
        "colab": {
          "base_uri": "https://localhost:8080/"
        },
        "id": "4CtoC7ci_gLR",
        "outputId": "d0f9d694-259d-4dc0-94f5-71dc4c150db4"
      },
      "execution_count": null,
      "outputs": [
        {
          "output_type": "stream",
          "name": "stdout",
          "text": [
            "<class 'list'>\n",
            "<class 'list'>\n",
            "<class 'list'>\n"
          ]
        }
      ]
    },
    {
      "cell_type": "code",
      "source": [
        "!pip install pandas\n",
        "!pip install xlsxwriter"
      ],
      "metadata": {
        "id": "LJMdF9c1AKBQ"
      },
      "execution_count": null,
      "outputs": []
    },
    {
      "cell_type": "code",
      "source": [
        "import pandas as pd\n",
        "import xlsxwriter\n",
        "\n",
        "data = {'unlex-word-data': lines}\n",
        "\n",
        "df = pd.DataFrame(data)\n",
        "\n",
        "df['test-data'] = lines2\n",
        "df['BLEU-Scores'] = lines3\n",
        "\n",
        "print(df)\n",
        "writer = pd.ExcelWriter('test-word.xlsx', engine='xlsxwriter')\n",
        "df.to_excel(writer, sheet_name='Unlex-Word-Data', index=False)\n",
        "writer.save()"
      ],
      "metadata": {
        "id": "CM80kaOGABgZ"
      },
      "execution_count": null,
      "outputs": []
    },
    {
      "cell_type": "markdown",
      "source": [
        "**now, reading excel file to display outputs for low BLEU scores**"
      ],
      "metadata": {
        "id": "Ke8r6peYL5Bx"
      }
    },
    {
      "cell_type": "code",
      "source": [
        "import openpyxl\n",
        "from pathlib import Path\n",
        "\n",
        "xlsx_file = Path('', 'test-word.xlsx')\n",
        "wb_obj = openpyxl.load_workbook(xlsx_file)\n",
        "sheet = wb_obj.active\n",
        "\n",
        "col_names = []\n",
        "for column in sheet.iter_cols(1, sheet.max_column):\n",
        "    col_names.append(column[0].value)\n",
        "   \n",
        "    \n",
        "print(col_names)"
      ],
      "metadata": {
        "id": "jtKaLlfCL_I1"
      },
      "execution_count": null,
      "outputs": []
    },
    {
      "cell_type": "code",
      "source": [
        "df = pd.read_excel('test-word.xlsx', sheet_name=0) #reads the first sheet of your excel file\n",
        "print(df)\n",
        "print(type(df))"
      ],
      "metadata": {
        "id": "RllfK893OyjC"
      },
      "execution_count": null,
      "outputs": []
    },
    {
      "cell_type": "code",
      "source": [
        "print(len(df.query(\"`BLEU-Scores` >= 0 and `BLEU-Scores` <= 10\")))\n",
        "\n",
        "print(df.query(\"`BLEU-Scores` >= 0 and `BLEU-Scores` <= 10\"))\n",
        "\n"
      ],
      "metadata": {
        "colab": {
          "base_uri": "https://localhost:8080/"
        },
        "id": "KiGaCg93VGZs",
        "outputId": "e4b91d68-65de-495b-a714-4e4151cfb753"
      },
      "execution_count": null,
      "outputs": [
        {
          "output_type": "stream",
          "name": "stdout",
          "text": [
            "12\n",
            "                                unlex-word-data  \\\n",
            "2                She really like shortest eggs.   \n",
            "11           Does everyone possibly get a book?   \n",
            "54                        Who the children are!   \n",
            "140                     She tore up the secret.   \n",
            "247                     I went there with feet.   \n",
            "268                        Has a drop dripping?   \n",
            "377        She washed him from her performance.   \n",
            "540            There was a soldier on the ship.   \n",
            "579  She is donating some money to cancer name.   \n",
            "589                                       http:   \n",
            "610                 The rope must be resumed...   \n",
            "752                      Tom won a lot of race.   \n",
            "\n",
            "                                     test-data  BLEU-Scores  \n",
            "2                      She likes short skirts.     9.652435  \n",
            "11             Nowadays anybody can get books.     6.567275  \n",
            "54              What a nuisance that child is!     7.160476  \n",
            "140        She has hit the jackpot once again.     7.654113  \n",
            "247                           We went on foot.     9.652435  \n",
            "268                             Drops dripped.     0.000000  \n",
            "377           She wiped him out of her memory.     8.051154  \n",
            "540        There were soldiers on these ships.     7.267884  \n",
            "579  She's donating money for cancer research.     6.742556  \n",
            "589  http://www.anl.siemens.de/news/press.html     0.055308  \n",
            "610                That rope has to be coiled.     7.267884  \n",
            "752                    Tom has won many races.     8.643020  \n"
          ]
        }
      ]
    },
    {
      "cell_type": "code",
      "source": [
        "print(len(df.query(\"`BLEU-Scores` >= 11 and `BLEU-Scores` <= 20\")))\n",
        "\n",
        "print(df.query(\"`BLEU-Scores` >= 11 and `BLEU-Scores` <= 20\"))\n",
        "\n"
      ],
      "metadata": {
        "colab": {
          "base_uri": "https://localhost:8080/"
        },
        "id": "uQVRGPItiCkS",
        "outputId": "3e447e4f-b434-4d6b-c6e7-2947105578f0"
      },
      "execution_count": null,
      "outputs": [
        {
          "output_type": "stream",
          "name": "stdout",
          "text": [
            "50\n",
            "                                   unlex-word-data  \\\n",
            "4                  One cannot live on this island.   \n",
            "22                The casino is playing money now.   \n",
            "34                 The piano snapped the fire out.   \n",
            "51               I think he's eaten about 10 here.   \n",
            "92                                  The flies wet.   \n",
            "102                       The room wasn't out yet.   \n",
            "141                 You're here to speak Georgian.   \n",
            "150               There is a skeleton in the park.   \n",
            "155                  I'm wetting my handkerchiefs.   \n",
            "171                      I'll listen to this song.   \n",
            "175                        Your shift is open now.   \n",
            "250                                Tom ripped off.   \n",
            "262                We fishing in the River Thames.   \n",
            "263            The law was criticized by the wash.   \n",
            "277                   There is a bag in this room.   \n",
            "382                            Four times 5 is 20.   \n",
            "383             He studied some turtle in Harvard.   \n",
            "413                                      It's: 30.   \n",
            "438      What association is Hope Holcomb led now?   \n",
            "458                        The whistle roared out.   \n",
            "459                                I hated Monday.   \n",
            "465                                  I'm pregnant.   \n",
            "467      A crude oil has been overseas as a price.   \n",
            "470                  Hundreds of women were raped.   \n",
            "471  Which prize did Elizabeth Neufeld be awarded?   \n",
            "489                   Tom knows that Mary refused.   \n",
            "494                                   Tom's upset.   \n",
            "505     Napoleon received his army through Russia.   \n",
            "512                             It was incredible.   \n",
            "514                      Tom plays a lot of words.   \n",
            "520                  Tom got expelled from office.   \n",
            "543            500 British soldiers were captured.   \n",
            "561   The clock in the city was out at 10 o'clock.   \n",
            "572                 Tom scored a thirty name eggs.   \n",
            "613              Which city was Liverpool Beatles?   \n",
            "616    Tom still owes Mary three city _ 1 dollars.   \n",
            "628                     He sat down the telephone.   \n",
            "637                  There's somebody in the room.   \n",
            "649               Actinium melts by three degrees.   \n",
            "684                 We study since 8 until eleven.   \n",
            "704               Suddenly origins began to tango.   \n",
            "722                   I was swimming in the river.   \n",
            "727                  I was rejected by mosquitoes.   \n",
            "740                      She is shy of pine trees.   \n",
            "745                    assembled a sewing machine.   \n",
            "794                 I came here about six o'clock.   \n",
            "838                        I like this tie of you.   \n",
            "862                         We're not married yet.   \n",
            "873    The used to Boston must take about 90 name.   \n",
            "881                This hat cost about 50 dollars.   \n",
            "\n",
            "                                             test-data  BLEU-Scores  \n",
            "4                       You can't live on that island.    18.575058  \n",
            "22                        This casino is losing money.    15.619700  \n",
            "34                 The fire fighters put out the fire.    14.317201  \n",
            "51                    I think he ate about 10 oysters.    16.515822  \n",
            "92                                     The fly buzzes.    18.995892  \n",
            "102                    The room was anything but tidy.    15.207218  \n",
            "141                             Do you speak Georgian?    16.233396  \n",
            "150              There are tennis courts in this park.    13.134549  \n",
            "155                      I am wetting my handkerchief.    19.357693  \n",
            "171                   Let's listen to that song again.    16.341219  \n",
            "175                                  Your fly is open!    17.965206  \n",
            "250                                      Tom shivered.    18.995892  \n",
            "262                      I fished in the Thames River.    16.515822  \n",
            "263   The law was also criticized be the trade unions.    19.038682  \n",
            "277                   There are some bags in the room.    13.134549  \n",
            "382                         Four times five is twenty.    19.304870  \n",
            "383                         He studied law at Harvard.    18.575058  \n",
            "413                                It's half past one.    14.794016  \n",
            "438           What association does Hope Holcomb lead?    16.515822  \n",
            "458                                The thunder roared.    14.058533  \n",
            "459                                    I hate Mondays.    18.995892  \n",
            "465                                     Am I pregnant?    19.716119  \n",
            "467               Crude oil has been falling in price.    19.640733  \n",
            "470     Hundreds of thousands of women had been raped.    16.293990  \n",
            "471          What prize was Elizabeth Neufeld awarded?    16.515822  \n",
            "489                               Tom knows Mary lied.    19.304870  \n",
            "494                                Tom is unperturbed.    19.716119  \n",
            "505           Napoleon marched his armies into Russia.    15.619700  \n",
            "512                    That was incredible, wasn't it?    15.090768  \n",
            "514                      Tom mispronounces many words.    14.535768  \n",
            "520              Tom was expelled from private school.    16.341219  \n",
            "543   Five hundred British soldiers had been captured.    16.449759  \n",
            "561          The clocks in the city were striking ten.    15.851166  \n",
            "572                              Tom scored 30 points.    14.535768  \n",
            "613           What Liverpool club spawned the Beatles?    15.207218  \n",
            "616                         Tom owes Mary 300 dollars.    12.549311  \n",
            "628  As soon as he sat down, he picked up the telep...    11.830764  \n",
            "637                     There is someone in this room.    15.207218  \n",
            "649                         Actinium melts at 1,051°C.    17.965206  \n",
            "684                      I study from eight to eleven.    14.535768  \n",
            "704                       Suddenly rain began to fall.    19.304870  \n",
            "722                      I used to swim in this river.    13.540372  \n",
            "727                           I was bit by a mosquito.    16.341219  \n",
            "740                          She is partial to sweets.    14.535768  \n",
            "745                      You assemble sewing machines.    12.703319  \n",
            "794                               I came at about six.    19.640733  \n",
            "838                          I like that tie of yours.    19.640733  \n",
            "862                                 We aren't married.    12.703319  \n",
            "873  The flight to Boston should take about ninety ...    13.134549  \n",
            "881                That hat cost around fifty dollars.    18.575058  \n"
          ]
        }
      ]
    },
    {
      "cell_type": "code",
      "source": [
        "print(len(df.query(\"`BLEU-Scores` >= 21 and `BLEU-Scores` <= 30\")))\n",
        "\n",
        "print(df.query(\"`BLEU-Scores` >= 21 and `BLEU-Scores` <= 30\"))\n"
      ],
      "metadata": {
        "colab": {
          "base_uri": "https://localhost:8080/"
        },
        "id": "SfLkgX1fiFjl",
        "outputId": "8b050802-85ff-49e5-d10b-d008676c3c30"
      },
      "execution_count": null,
      "outputs": [
        {
          "output_type": "stream",
          "name": "stdout",
          "text": [
            "73\n",
            "                                       unlex-word-data  \\\n",
            "10   She bought an vacuum cleaner from the supermar...   \n",
            "28                             How deep the potato is!   \n",
            "55                 It will cost about 10 thousand yen.   \n",
            "57           He drank some orange juice from a bottle.   \n",
            "71                            The children were bored.   \n",
            "..                                                 ...   \n",
            "849                             Japanese is my tongue.   \n",
            "871              Tom escorting Mary from the building.   \n",
            "876  Salted medical technology was one of the silve...   \n",
            "884                            The problem is discuss.   \n",
            "893                                It's a red herring.   \n",
            "\n",
            "                                             test-data  BLEU-Scores  \n",
            "10     She bought a vacuum cleaner at the supermarket.    26.084743  \n",
            "28                              How deep this lake is!    22.957488  \n",
            "55                      It will cost around 10000 yen.    25.848658  \n",
            "57              He drank orange juice out of a bottle.    26.084743  \n",
            "71                                The child was bored.    23.643540  \n",
            "..                                                 ...          ...  \n",
            "849                     Japanese is our mother tongue.    24.736930  \n",
            "871             Tom escorted Mary out of the building.    24.078566  \n",
            "876  Improved medical technology has been one of th...    28.863046  \n",
            "884                The problem is being discussed now.    28.641905  \n",
            "893                                       It's a trap!    21.364350  \n",
            "\n",
            "[73 rows x 3 columns]\n"
          ]
        }
      ]
    },
    {
      "cell_type": "code",
      "source": [
        "print(len(df.query(\"`BLEU-Scores` >= 31 and `BLEU-Scores` <= 40\")))\n",
        "\n",
        "print(df.query(\"`BLEU-Scores` >= 31 and `BLEU-Scores` <= 40\"))\n"
      ],
      "metadata": {
        "colab": {
          "base_uri": "https://localhost:8080/"
        },
        "id": "LVtT1W5wiHrf",
        "outputId": "31db773f-132d-4a55-8869-17ee2c2da2d3"
      },
      "execution_count": null,
      "outputs": [
        {
          "output_type": "stream",
          "name": "stdout",
          "text": [
            "99\n",
            "                          unlex-word-data  \\\n",
            "9              That stinks of cigarettes.   \n",
            "20                 The dog snapped at me.   \n",
            "32   Tom washed the sheets on his finger.   \n",
            "37          She resigned through my poem.   \n",
            "39                    Taninna is purring.   \n",
            "..                                    ...   \n",
            "864                       Tom is escaped.   \n",
            "887                No one encouraged him.   \n",
            "889                            I'm tired.   \n",
            "894                  Tom sat on his desk.   \n",
            "897                         Stop sharing!   \n",
            "\n",
            "                                     test-data  BLEU-Scores  \n",
            "9                     You stink of cigarettes.    39.763536  \n",
            "20                       The dog nipped at me.    37.991784  \n",
            "32   Tom twirled the basketball on his finger.    38.260294  \n",
            "37                     She scoffed at my poem.    32.466792  \n",
            "39                          Taninna is paling.    35.355339  \n",
            "..                                         ...          ...  \n",
            "864                           Tom is escaping.    35.355339  \n",
            "887                     Nobody encouraged him.    39.763536  \n",
            "889                                I am tired.    39.432238  \n",
            "894                       Tom sat at his desk.    37.991784  \n",
            "897                            Stop kvetching!    34.668064  \n",
            "\n",
            "[99 rows x 3 columns]\n"
          ]
        }
      ]
    },
    {
      "cell_type": "code",
      "source": [
        "print(len(df.query(\"`BLEU-Scores` >= 41 and `BLEU-Scores` <= 50\")))\n",
        "\n",
        "print(df.query(\"`BLEU-Scores` >= 41 and `BLEU-Scores` <= 50\"))\n"
      ],
      "metadata": {
        "colab": {
          "base_uri": "https://localhost:8080/"
        },
        "id": "C7ePbtTniZLT",
        "outputId": "ca5c3b1c-3f46-4b0e-ba3d-7b26e59ff408"
      },
      "execution_count": null,
      "outputs": [
        {
          "output_type": "stream",
          "name": "stdout",
          "text": [
            "84\n",
            "                                       unlex-word-data  \\\n",
            "29                    Ted loves his wife to Elizabeth.   \n",
            "36                                        I'm thirsty.   \n",
            "40                    The black bird is not blackbird.   \n",
            "88   Both Cristina and Luis always dreamed of study...   \n",
            "125                   I can't stand the noise anymore.   \n",
            "..                                                 ...   \n",
            "855                                      Tom is happy.   \n",
            "858                         Latin is a dead name dead.   \n",
            "863                                No one deserves it.   \n",
            "866                          He ate name of the apple.   \n",
            "886                     The bill amounts to 5,000 yen.   \n",
            "\n",
            "                                             test-data  BLEU-Scores  \n",
            "29                       Ted loves his wife Elizabeth.    48.892302  \n",
            "36                                  I'm still thirsty.    45.138644  \n",
            "40                 That black bird is not a blackbird.    42.383656  \n",
            "88   Both Cristina and Luis always dreamt of studyi...    46.713798  \n",
            "125                  I can't stand that noise anymore.    41.113362  \n",
            "..                                                 ...          ...  \n",
            "855                                  Tom is happy now.    49.760939  \n",
            "858                          Latin is a dead language.    43.472087  \n",
            "863                              No one deserves that.    42.728701  \n",
            "866                           He ate all of the apple.    48.892302  \n",
            "886             The bill amounts to five thousand yen.    42.383656  \n",
            "\n",
            "[84 rows x 3 columns]\n"
          ]
        }
      ]
    },
    {
      "cell_type": "code",
      "source": [
        "print(len(df.query(\"`BLEU-Scores` >= 51 and `BLEU-Scores` <= 60\")))\n",
        "\n",
        "print(df.query(\"`BLEU-Scores` >= 51 and `BLEU-Scores` <= 60\"))\n"
      ],
      "metadata": {
        "colab": {
          "base_uri": "https://localhost:8080/"
        },
        "id": "aRIYN9Geidn2",
        "outputId": "260a29be-6b8c-449b-dc0a-d67a6517c4ec"
      },
      "execution_count": null,
      "outputs": [
        {
          "output_type": "stream",
          "name": "stdout",
          "text": [
            "61\n",
            "                           unlex-word-data                          test-data  \\\n",
            "24   Susan questioned your father's shoes.  Susan shined your father's shoes.   \n",
            "31                The piano value is zero.         The default value is zero.   \n",
            "33          She hired a private detective.  She hired a private investigator.   \n",
            "42              The train leaves at 2: 30.      The train leaves at 2:30 p.m.   \n",
            "48                  I am milking my goats.              I am milking my goat.   \n",
            "..                                     ...                                ...   \n",
            "783           Mayuko wore a flower smells.        Mayuko wore a flower crown.   \n",
            "828                           That stinks.                         It stinks.   \n",
            "856              The baby is crawling now.              The baby is crawling.   \n",
            "885       I was born on April 3rd in 1950.       I was born on April 3, 1950.   \n",
            "890              Tom rolled up his sleeve.         Tom rolled up his sleeves.   \n",
            "\n",
            "     BLEU-Scores  \n",
            "24     53.728497  \n",
            "31     53.728497  \n",
            "33     53.728497  \n",
            "42     59.755799  \n",
            "48     53.728497  \n",
            "..           ...  \n",
            "783    53.728497  \n",
            "828    55.032121  \n",
            "856    53.728497  \n",
            "885    51.334505  \n",
            "890    53.728497  \n",
            "\n",
            "[61 rows x 3 columns]\n"
          ]
        }
      ]
    },
    {
      "cell_type": "code",
      "source": [
        "print(len(df.query(\"`BLEU-Scores` >= 61 and `BLEU-Scores` <= 70\")))\n",
        "\n",
        "print(df.query(\"`BLEU-Scores` >= 61 and `BLEU-Scores` <= 70\"))\n"
      ],
      "metadata": {
        "colab": {
          "base_uri": "https://localhost:8080/"
        },
        "id": "aFLiAlUAikJ1",
        "outputId": "42d332eb-385d-4467-c03f-dec9c285f497"
      },
      "execution_count": null,
      "outputs": [
        {
          "output_type": "stream",
          "name": "stdout",
          "text": [
            "43\n",
            "                                       unlex-word-data  \\\n",
            "23   The bathtub frightened when she was talking on...   \n",
            "91   The official dinner took place in the White Ho...   \n",
            "97                      I have never climbed Mt. Fuji.   \n",
            "104                   F. Uranus is similar to Neptune.   \n",
            "118                            Will you stop babbling?   \n",
            "123                            She is not a good cook.   \n",
            "177           Tom couldn't pronounce Mary's last name.   \n",
            "208                            aircraft is taking off.   \n",
            "210        They were seated the table in a restaurant.   \n",
            "212                             I saw nothing strange.   \n",
            "236                    Nick still owes me ten dollars.   \n",
            "242               Playing name is my favorite pastime.   \n",
            "249                        No one lives in this house.   \n",
            "256                 My little brother asked for money.   \n",
            "280                        Tom is coming to the party.   \n",
            "303                      Tom was born in the nineties.   \n",
            "308                       I grabbed Tom by the elbows.   \n",
            "320            He arrived at the station at 5 o'clock.   \n",
            "330                He spent his honeymoon in Maldives.   \n",
            "393               My uncle brought a new TV set on me.   \n",
            "405           This watch was your grandfather's watch.   \n",
            "411                  He isn't afraid of snakes at all.   \n",
            "419                                   I'm not a freak.   \n",
            "439                I know him, but he doesn't know me.   \n",
            "483                My uncle isn't young, he's healthy.   \n",
            "506                        I was wounded with a knife.   \n",
            "527             Tom and Mary are always flirting with.   \n",
            "549                 The brass band played three march.   \n",
            "550                                The rice is sticky.   \n",
            "609  Tom apologized to Mary to his son's impolite r...   \n",
            "618         It took me three hoours to do my homework.   \n",
            "638                           I'm looking for someone.   \n",
            "712               Melanie said that she likes subdued.   \n",
            "736                         I attempted suicide twice.   \n",
            "744                    Tom hasn't broken any laws yet.   \n",
            "766              Judith Miller is a member of the CIA.   \n",
            "777                              How does it cost him?   \n",
            "801             This is the biggest hotel in the city.   \n",
            "805                                This watch is slow.   \n",
            "806  Julio is neither in the hammock I hung under t...   \n",
            "819             J. J. Thomson was a English scientist.   \n",
            "824                                 It costs 30 euros.   \n",
            "848                              I got stung by a bee.   \n",
            "\n",
            "                                             test-data  BLEU-Scores  \n",
            "23   The bathtub overflowed while she was talking o...    63.155524  \n",
            "91   The official dinner took place at the White Ho...    65.803701  \n",
            "97                        I've never climbed Mt. Fuji.    68.037493  \n",
            "104                      Uranus is similar to Neptune.    68.037493  \n",
            "118                           Would you stop babbling?    66.874030  \n",
            "123                             She's not a good cook.    61.478815  \n",
            "177              Tom can't pronounce Mary's last name.    64.345888  \n",
            "208                          An aircraft is taking off    66.874030  \n",
            "210     They were seated at the table in a restaurant.    66.904844  \n",
            "212                            We saw nothing strange.    66.874030  \n",
            "236                          Nick owes me ten dollars.    64.345888  \n",
            "242                 Playing go is my favorite pastime.    64.345888  \n",
            "249                        Nobody lives in this house.    61.478815  \n",
            "256            My little brother asked for some money.    61.297524  \n",
            "280                   Tom is coming to the party, too.    63.191456  \n",
            "303                         Tom was born in the 1990s.    64.345888  \n",
            "308                        I grabbed Tom by the elbow.    64.345888  \n",
            "320                 He arrived at the station at five.    61.047358  \n",
            "330            He spent his honeymoon in the Maldives.    61.297524  \n",
            "393              My uncle brought a new TV set for us.    66.063286  \n",
            "405                 This watch was your grandfather's.    64.345888  \n",
            "411                  He's not afraid of snakes at all.    68.037493  \n",
            "419                                   I'm not a freak!    66.874030  \n",
            "439                 I know him but he doesn't know me.    65.803701  \n",
            "483            My uncle isn't young, but he's healthy.    61.019504  \n",
            "506                    I've been wounded with a knife.    61.478815  \n",
            "527  Tom and Mary are always flirting with each other.    67.712191  \n",
            "549               The brass band played three marches.    64.345888  \n",
            "550                               This rice is sticky.    66.874030  \n",
            "609  Tom apologized to Mary for his son's impolite ...    65.803701  \n",
            "618          It took me three hours to do my homework.    65.803701  \n",
            "638                         We're looking for someone.    66.874030  \n",
            "712              Melanie said that she likes swimming.    64.345888  \n",
            "736                      I've attempted suicide twice.    66.874030  \n",
            "744                        Tom hasn't broken any laws.    64.345888  \n",
            "766                  Judith Miller is a member of CIA.    66.063286  \n",
            "777                         How much does it cost him?    67.318214  \n",
            "801            This is the biggest hotel in this city.    66.063286  \n",
            "805                                 The watch is slow.    66.874030  \n",
            "806  Julio is swinging in the hammock that I hung u...    61.421509  \n",
            "819            J. J. Thomson was an English scientist.    65.803701  \n",
            "824                               That costs 30 euros.    66.874030  \n",
            "848                              I was stung by a bee.    64.345888  \n"
          ]
        }
      ]
    },
    {
      "cell_type": "code",
      "source": [
        "print(len(df.query(\"`BLEU-Scores` >= 71 and `BLEU-Scores` <= 80\")))\n",
        "\n",
        "print(df.query(\"`BLEU-Scores` >= 71 and `BLEU-Scores` <= 80\"))\n"
      ],
      "metadata": {
        "colab": {
          "base_uri": "https://localhost:8080/"
        },
        "id": "QI5dmRu_ipjI",
        "outputId": "893cf532-97aa-4d0b-b81b-89498f4739a8"
      },
      "execution_count": null,
      "outputs": [
        {
          "output_type": "stream",
          "name": "stdout",
          "text": [
            "25\n",
            "                                       unlex-word-data  \\\n",
            "5    George W. Bush was born in the state Connectic...   \n",
            "25                             I arrived two days ago.   \n",
            "30                   Samba is a book by Scott McCloud.   \n",
            "41                          I painted the house green.   \n",
            "63                             We chopped a tree down.   \n",
            "73   The presentation is accompanied with a lot of ...   \n",
            "99             I took him, but he ignored the warning.   \n",
            "111                       This plastic chair is cheap.   \n",
            "178                    The damned computer won't work.   \n",
            "254                         I've lost my mobile phone.   \n",
            "258  A typical of prisoners took place on May 24, 1...   \n",
            "294                         My yogurt expires in 2014.   \n",
            "351               Mr. Johnson's room was a large room.   \n",
            "364                                 That CD costs $10.   \n",
            "476                             AI sat down beside me.   \n",
            "588                    Rats chewed a hole in the wall.   \n",
            "659                   This hamster has stuffed cheeks.   \n",
            "667                         Every building has a name.   \n",
            "674                        I like chocolate ice cream.   \n",
            "680         The bell rang and the train began to move.   \n",
            "683                               We climbed Mt. Fuji.   \n",
            "703          It was the first gold medal that she won.   \n",
            "753                   I'm from Rio de Janeiro, Brazil.   \n",
            "781                    Someone farted in the elevator.   \n",
            "789                    Mifune named his dog Maggy May.   \n",
            "\n",
            "                                             test-data  BLEU-Scores  \n",
            "5    George W. Bush was born in the state of Connec...    78.819297  \n",
            "25                            We arrived two days ago.    75.983569  \n",
            "30      Reinventing Comics is a book by Scott McCloud.    74.208848  \n",
            "41                         We painted the house green.    75.983569  \n",
            "63                              I chopped a tree down.    75.983569  \n",
            "73    The operation is accompanied with a lot of pain.    78.254229  \n",
            "99           I warned him, but he ignored the warning.    78.254229  \n",
            "111                        The plastic chair is cheap.    75.983569  \n",
            "178                   This damned computer won't work.    75.983569  \n",
            "254                            I lost my mobile phone.    75.983569  \n",
            "258  A typical reception of prisoners took place on...    79.789731  \n",
            "294                         My yogurt expires in 2014!    75.983569  \n",
            "351                Mr. Johnson's room was a large one.    75.062385  \n",
            "364                                 This CD costs $10.    75.983569  \n",
            "476                             Ai sat down beside me.    75.983569  \n",
            "588                   A rat chewed a hole in the wall.    74.208848  \n",
            "659                    The hamster has stuffed cheeks.    75.983569  \n",
            "667                          Each building has a name.    75.983569  \n",
            "674                        I like chocolate ice cream!    75.983569  \n",
            "680        The bell rang, and the train began to move.    71.086679  \n",
            "683                             I've climbed Mt. Fuji.    75.983569  \n",
            "703      It was the first gold medal that she had won.    75.165011  \n",
            "753                  I am from Rio de Janeiro, Brazil.    74.208848  \n",
            "781                   Somebody farted in the elevator.    75.983569  \n",
            "789                Mifune has named his dog Maggy May.    72.895452  \n"
          ]
        }
      ]
    },
    {
      "cell_type": "code",
      "source": [
        "print(len(df.query(\"`BLEU-Scores` >= 81 and `BLEU-Scores` <= 90\")))\n",
        "\n",
        "print(df.query(\"`BLEU-Scores` >= 81 and `BLEU-Scores` <= 90\"))\n"
      ],
      "metadata": {
        "colab": {
          "base_uri": "https://localhost:8080/"
        },
        "id": "xsW3aPhBiyRv",
        "outputId": "c55bf47e-a553-49e4-f982-10a5f5e73397"
      },
      "execution_count": null,
      "outputs": [
        {
          "output_type": "stream",
          "name": "stdout",
          "text": [
            "3\n",
            "                                       unlex-word-data  \\\n",
            "335  This dictionary contains about half a million ...   \n",
            "721                 We got up at seven in the morning.   \n",
            "851                      six people came to the party.   \n",
            "\n",
            "                                             test-data  BLEU-Scores  \n",
            "335  The dictionary contains about half a million w...    86.334002  \n",
            "721                  I got up at seven in the morning.    86.334002  \n",
            "851                 Only six people came to the party.    86.687790  \n"
          ]
        }
      ]
    },
    {
      "cell_type": "code",
      "source": [
        "print(len(df.query(\"`BLEU-Scores` >= 91 and `BLEU-Scores` <= 100\")))\n",
        "\n",
        "print(df.query(\"`BLEU-Scores` >= 91 and `BLEU-Scores` <= 100\"))\n"
      ],
      "metadata": {
        "colab": {
          "base_uri": "https://localhost:8080/"
        },
        "id": "ZrYPqF8hi16K",
        "outputId": "2c7f5539-6d2d-45c9-fb9c-20c7571a30f7"
      },
      "execution_count": null,
      "outputs": [
        {
          "output_type": "stream",
          "name": "stdout",
          "text": [
            "0\n",
            "Empty DataFrame\n",
            "Columns: [unlex-word-data, test-data, BLEU-Scores]\n",
            "Index: []\n"
          ]
        }
      ]
    }
  ]
}